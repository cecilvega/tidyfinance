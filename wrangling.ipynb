{
 "cells": [
  {
   "metadata": {},
   "cell_type": "code",
   "source": [
    "from google.oauth2.credentials import Credentials\n",
    "from google_auth_oauthlib.flow import InstalledAppFlow\n",
    "from googleapiclient.discovery import build\n",
    "\n",
    "# Set up the OAuth 2.0 flow\n",
    "\n",
    "\n",
    "# Run the OAuth 2.0 flow to obtain credentials\n",
    "creds = flow.run_local_server(port=0)\n",
    "\n",
    "# Create a Drive API client\n",
    "drive_service = build(\"drive\", \"v3\", credentials=creds)\n",
    "\n",
    "# Specify the file ID of the file you want to read\n",
    "file_id = \"your_file_id_here\"\n",
    "\n",
    "# Make a request to get the file metadata\n",
    "file_metadata = drive_service.files().get(fileId=file_id).execute()\n",
    "\n",
    "# Get the file content\n",
    "file_content = drive_service.files().get_media(fileId=file_id).execute()\n",
    "\n",
    "# Process the file content as needed\n",
    "print(file_content.decode(\"utf-8\"))"
   ],
   "id": "cfef15abb19356f6",
   "outputs": [],
   "execution_count": null
  },
  {
   "metadata": {},
   "cell_type": "code",
   "source": [
    "from google.oauth2.credentials import Credentials\n",
    "from googleapiclient.discovery import build\n",
    "\n",
    "# Set up the credentials (you'll need to create and configure OAuth 2.0 credentials)\n",
    "\n",
    "# Create a Drive API client\n",
    "drive_service = build(\"drive\", \"v3\", credentials=creds)\n",
    "# Specify the file ID of the file you want to read\n",
    "file_id = \"1WOcaZOyHYGhebc80gsgoLjw4ofabIymCJkq7smgvsH8\"\n",
    "\n",
    "# Make a request to get the file metadata\n",
    "file_metadata = drive_service.files().get(fileId=file_id).execute()\n",
    "\n",
    "# Get the file content\n",
    "file_content = drive_service.files().get_media(fileId=file_id).execute()\n",
    "\n",
    "# Process the file content as needed\n",
    "print(file_content.decode(\"utf-8\"))"
   ],
   "id": "26bcce7fe325384b",
   "outputs": [],
   "execution_count": null
  },
  {
   "metadata": {},
   "cell_type": "code",
   "source": "",
   "id": "e438499fa7b9d035",
   "outputs": [],
   "execution_count": null
  },
  {
   "metadata": {},
   "cell_type": "code",
   "source": "",
   "id": "ca0cde767fe45eec",
   "outputs": [],
   "execution_count": null
  },
  {
   "metadata": {},
   "cell_type": "code",
   "source": "",
   "id": "38533f3325c55175",
   "outputs": [],
   "execution_count": null
  },
  {
   "metadata": {},
   "cell_type": "code",
   "source": "",
   "id": "87fbce40c86506b8",
   "outputs": [],
   "execution_count": null
  },
  {
   "metadata": {},
   "cell_type": "code",
   "source": [
    "from google.oauth2.credentials import Credentials\n",
    "from googleapiclient.discovery import build\n",
    "\n",
    "# Set up the credentials (you'll need to create and configure OAuth 2.0 credentials)"
   ],
   "id": "74bbabd662a2d729",
   "outputs": [],
   "execution_count": null
  },
  {
   "metadata": {},
   "cell_type": "code",
   "source": "creds",
   "id": "b717e19fcba5e18",
   "outputs": [],
   "execution_count": null
  },
  {
   "metadata": {},
   "cell_type": "code",
   "source": [
    "# Create a Drive API client\n",
    "drive_service = build(\"drive\", \"v3\", credentials=creds)\n",
    "\n",
    "# Specify the file ID of the file you want to read\n",
    "file_id = \"your_file_id_here\"\n",
    "\n",
    "# Make a request to get the file metadata\n",
    "file_metadata = drive_service.files().get(fileId=file_id).execute()\n",
    "\n",
    "# Get the file content\n",
    "file_content = drive_service.files().get_media(fileId=file_id).execute()\n",
    "\n",
    "# Process the file content as needed\n",
    "print(file_content.decode(\"utf-8\"))"
   ],
   "id": "8e588877e7d959c3",
   "outputs": [],
   "execution_count": null
  }
 ],
 "metadata": {
  "kernelspec": {
   "display_name": "Python 3",
   "language": "python",
   "name": "python3"
  },
  "language_info": {
   "codemirror_mode": {
    "name": "ipython",
    "version": 2
   },
   "file_extension": ".py",
   "mimetype": "text/x-python",
   "name": "python",
   "nbconvert_exporter": "python",
   "pygments_lexer": "ipython2",
   "version": "2.7.6"
  }
 },
 "nbformat": 4,
 "nbformat_minor": 5
}
