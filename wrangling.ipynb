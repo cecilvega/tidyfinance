{
 "cells": [
  {
   "metadata": {
    "ExecuteTime": {
     "end_time": "2024-04-22T01:46:13.273041Z",
     "start_time": "2024-04-22T01:20:57.510635Z"
    }
   },
   "cell_type": "code",
   "source": [
    "from google.oauth2.credentials import Credentials\n",
    "from google_auth_oauthlib.flow import InstalledAppFlow\n",
    "from googleapiclient.discovery import build\n",
    "\n",
    "# Set up the OAuth 2.0 flow\n",
    "flow = InstalledAppFlow.from_client_config(\n",
    "    {\n",
    "        \"installed\": {\n",
    "            \"client_id\": \"382496031737-aijqc6gaaluue6e14evksvh05gootvng.apps.googleusercontent.com\",\n",
    "            \"project_id\": \"cecilvega\",\n",
    "            \"auth_uri\": \"https://accounts.google.com/o/oauth2/auth\",\n",
    "            \"token_uri\": \"https://oauth2.googleapis.com/token\",\n",
    "            \"auth_provider_x509_cert_url\": \"https://www.googleapis.com/oauth2/v1/certs\",\n",
    "            \"client_secret\": \"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\",\n",
    "            \"redirect_uris\": [\"http://localhost\"],\n",
    "        }\n",
    "    },\n",
    "    scopes=[\"https://www.googleapis.com/auth/drive.readonly\"],\n",
    ")\n",
    "\n",
    "# Run the OAuth 2.0 flow to obtain credentials\n",
    "creds = flow.run_local_server(port=0)\n",
    "\n",
    "# Create a Drive API client\n",
    "drive_service = build(\"drive\", \"v3\", credentials=creds)\n",
    "\n",
    "# Specify the file ID of the file you want to read\n",
    "file_id = \"your_file_id_here\"\n",
    "\n",
    "# Make a request to get the file metadata\n",
    "file_metadata = drive_service.files().get(fileId=file_id).execute()\n",
    "\n",
    "# Get the file content\n",
    "file_content = drive_service.files().get_media(fileId=file_id).execute()\n",
    "\n",
    "# Process the file content as needed\n",
    "print(file_content.decode(\"utf-8\"))"
   ],
   "id": "cfef15abb19356f6",
   "outputs": [
    {
     "name": "stdout",
     "output_type": "stream",
     "text": [
      "Please visit this URL to authorize this application: https://accounts.google.com/o/oauth2/auth?response_type=code&client_id=382496031737-aijqc6gaaluue6e14evksvh05gootvng.apps.googleusercontent.com&redirect_uri=http%3A%2F%2Flocalhost%3A45701%2F&scope=https%3A%2F%2Fwww.googleapis.com%2Fauth%2Fdrive.readonly&state=AQ1I3aZlejHJenYxzDVKgj07ZsmoLC&access_type=offline\n"
     ]
    },
    {
     "name": "stderr",
     "output_type": "stream",
     "text": [
      "Gtk-Message: 21:20:57.813: Failed to load module \"canberra-gtk-module\"\n",
      "Gtk-Message: 21:20:57.814: Failed to load module \"canberra-gtk-module\"\n",
      "[0421/212057.842549:WARNING:chrome_main_linux.cc(80)] Read channel stable from /app/extra/CHROME_VERSION_EXTRA\n"
     ]
    },
    {
     "name": "stdout",
     "output_type": "stream",
     "text": [
      "[0421/212057.956796:WARNING:chrome_main_linux.cc(80)] Read channel stable from /app/extra/CHROME_VERSION_EXTRA\n",
      "Opening in existing browser session.\n"
     ]
    },
    {
     "ename": "KeyboardInterrupt",
     "evalue": "",
     "output_type": "error",
     "traceback": [
      "\u001B[0;31m---------------------------------------------------------------------------\u001B[0m",
      "\u001B[0;31mKeyboardInterrupt\u001B[0m                         Traceback (most recent call last)",
      "Cell \u001B[0;32mIn[9], line 22\u001B[0m\n\u001B[1;32m      6\u001B[0m flow \u001B[38;5;241m=\u001B[39m InstalledAppFlow\u001B[38;5;241m.\u001B[39mfrom_client_config(\n\u001B[1;32m      7\u001B[0m     {\n\u001B[1;32m      8\u001B[0m         \u001B[38;5;124m\"\u001B[39m\u001B[38;5;124minstalled\u001B[39m\u001B[38;5;124m\"\u001B[39m: {\n\u001B[0;32m   (...)\u001B[0m\n\u001B[1;32m     18\u001B[0m     scopes\u001B[38;5;241m=\u001B[39m[\u001B[38;5;124m\"\u001B[39m\u001B[38;5;124mhttps://www.googleapis.com/auth/drive.readonly\u001B[39m\u001B[38;5;124m\"\u001B[39m],\n\u001B[1;32m     19\u001B[0m )\n\u001B[1;32m     21\u001B[0m \u001B[38;5;66;03m# Run the OAuth 2.0 flow to obtain credentials\u001B[39;00m\n\u001B[0;32m---> 22\u001B[0m creds \u001B[38;5;241m=\u001B[39m \u001B[43mflow\u001B[49m\u001B[38;5;241;43m.\u001B[39;49m\u001B[43mrun_local_server\u001B[49m\u001B[43m(\u001B[49m\u001B[43mport\u001B[49m\u001B[38;5;241;43m=\u001B[39;49m\u001B[38;5;241;43m0\u001B[39;49m\u001B[43m)\u001B[49m\n\u001B[1;32m     24\u001B[0m \u001B[38;5;66;03m# Create a Drive API client\u001B[39;00m\n\u001B[1;32m     25\u001B[0m drive_service \u001B[38;5;241m=\u001B[39m build(\u001B[38;5;124m\"\u001B[39m\u001B[38;5;124mdrive\u001B[39m\u001B[38;5;124m\"\u001B[39m, \u001B[38;5;124m\"\u001B[39m\u001B[38;5;124mv3\u001B[39m\u001B[38;5;124m\"\u001B[39m, credentials\u001B[38;5;241m=\u001B[39mcreds)\n",
      "File \u001B[0;32m~/DataspellProjects/venvs/venv311/lib/python3.11/site-packages/google_auth_oauthlib/flow.py:450\u001B[0m, in \u001B[0;36mInstalledAppFlow.run_local_server\u001B[0;34m(self, host, bind_addr, port, authorization_prompt_message, success_message, open_browser, redirect_uri_trailing_slash, timeout_seconds, token_audience, browser, **kwargs)\u001B[0m\n\u001B[1;32m    447\u001B[0m     \u001B[38;5;28mprint\u001B[39m(authorization_prompt_message\u001B[38;5;241m.\u001B[39mformat(url\u001B[38;5;241m=\u001B[39mauth_url))\n\u001B[1;32m    449\u001B[0m local_server\u001B[38;5;241m.\u001B[39mtimeout \u001B[38;5;241m=\u001B[39m timeout_seconds\n\u001B[0;32m--> 450\u001B[0m \u001B[43mlocal_server\u001B[49m\u001B[38;5;241;43m.\u001B[39;49m\u001B[43mhandle_request\u001B[49m\u001B[43m(\u001B[49m\u001B[43m)\u001B[49m\n\u001B[1;32m    452\u001B[0m \u001B[38;5;66;03m# Note: using https here because oauthlib is very picky that\u001B[39;00m\n\u001B[1;32m    453\u001B[0m \u001B[38;5;66;03m# OAuth 2.0 should only occur over https.\u001B[39;00m\n\u001B[1;32m    454\u001B[0m authorization_response \u001B[38;5;241m=\u001B[39m wsgi_app\u001B[38;5;241m.\u001B[39mlast_request_uri\u001B[38;5;241m.\u001B[39mreplace(\u001B[38;5;124m\"\u001B[39m\u001B[38;5;124mhttp\u001B[39m\u001B[38;5;124m\"\u001B[39m, \u001B[38;5;124m\"\u001B[39m\u001B[38;5;124mhttps\u001B[39m\u001B[38;5;124m\"\u001B[39m)\n",
      "File \u001B[0;32m/usr/lib/python3.11/socketserver.py:295\u001B[0m, in \u001B[0;36mBaseServer.handle_request\u001B[0;34m(self)\u001B[0m\n\u001B[1;32m    292\u001B[0m selector\u001B[38;5;241m.\u001B[39mregister(\u001B[38;5;28mself\u001B[39m, selectors\u001B[38;5;241m.\u001B[39mEVENT_READ)\n\u001B[1;32m    294\u001B[0m \u001B[38;5;28;01mwhile\u001B[39;00m \u001B[38;5;28;01mTrue\u001B[39;00m:\n\u001B[0;32m--> 295\u001B[0m     ready \u001B[38;5;241m=\u001B[39m \u001B[43mselector\u001B[49m\u001B[38;5;241;43m.\u001B[39;49m\u001B[43mselect\u001B[49m\u001B[43m(\u001B[49m\u001B[43mtimeout\u001B[49m\u001B[43m)\u001B[49m\n\u001B[1;32m    296\u001B[0m     \u001B[38;5;28;01mif\u001B[39;00m ready:\n\u001B[1;32m    297\u001B[0m         \u001B[38;5;28;01mreturn\u001B[39;00m \u001B[38;5;28mself\u001B[39m\u001B[38;5;241m.\u001B[39m_handle_request_noblock()\n",
      "File \u001B[0;32m/usr/lib/python3.11/selectors.py:415\u001B[0m, in \u001B[0;36m_PollLikeSelector.select\u001B[0;34m(self, timeout)\u001B[0m\n\u001B[1;32m    413\u001B[0m ready \u001B[38;5;241m=\u001B[39m []\n\u001B[1;32m    414\u001B[0m \u001B[38;5;28;01mtry\u001B[39;00m:\n\u001B[0;32m--> 415\u001B[0m     fd_event_list \u001B[38;5;241m=\u001B[39m \u001B[38;5;28;43mself\u001B[39;49m\u001B[38;5;241;43m.\u001B[39;49m\u001B[43m_selector\u001B[49m\u001B[38;5;241;43m.\u001B[39;49m\u001B[43mpoll\u001B[49m\u001B[43m(\u001B[49m\u001B[43mtimeout\u001B[49m\u001B[43m)\u001B[49m\n\u001B[1;32m    416\u001B[0m \u001B[38;5;28;01mexcept\u001B[39;00m \u001B[38;5;167;01mInterruptedError\u001B[39;00m:\n\u001B[1;32m    417\u001B[0m     \u001B[38;5;28;01mreturn\u001B[39;00m ready\n",
      "\u001B[0;31mKeyboardInterrupt\u001B[0m: "
     ]
    }
   ],
   "execution_count": 9
  },
  {
   "metadata": {
    "ExecuteTime": {
     "end_time": "2024-04-22T01:56:38.501700Z",
     "start_time": "2024-04-22T01:56:38.370246Z"
    }
   },
   "cell_type": "code",
   "source": [
    "from google.oauth2.credentials import Credentials\n",
    "from googleapiclient.discovery import build\n",
    "\n",
    "# Set up the credentials (you'll need to create and configure OAuth 2.0 credentials)\n",
    "creds = Credentials.from_authorized_user_info(\n",
    "    {\n",
    "        \"refresh_token\": \"1//04tzN0rndYLWTCgYIARAAGAQSNwF-L9IrrxxvOkm50SZkPzvkLScYpLWZdG5zmCnOh3H28C5TXv70cOH7LxWkWgV9sEPJ39vd7oU\",\n",
    "        \"client_id\": \"382496031737-vtt8oqip1inhnp1r6rdtvui6bc0edpqg.apps.googleusercontent.com\",\n",
    "        \"client_secret\": \"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\",\n",
    "        # \"redirect_uris\": \"https://developers.google.com/oauthplayground\",\n",
    "    },\n",
    "    [\"https://www.googleapis.com/auth/drive.readonly\"],\n",
    ")\n",
    "# Create a Drive API client\n",
    "drive_service = build(\"drive\", \"v3\", credentials=creds)\n",
    "# https://docs.google.com/spreadsheets/d/1WOcaZOyHYGhebc80gsgoLjw4ofabIymCJkq7smgvsH8/edit?usp=sharing\n",
    "# Specify the file ID of the file you want to read\n",
    "file_id = \"1WOcaZOyHYGhebc80gsgoLjw4ofabIymCJkq7smgvsH8\"\n",
    "\n",
    "# Make a request to get the file metadata\n",
    "file_metadata = drive_service.files().get(fileId=file_id).execute()\n",
    "\n",
    "# Get the file content\n",
    "file_content = drive_service.files().get_media(fileId=file_id).execute()\n",
    "\n",
    "# Process the file content as needed\n",
    "print(file_content.decode(\"utf-8\"))"
   ],
   "id": "26bcce7fe325384b",
   "outputs": [
    {
     "ename": "RefreshError",
     "evalue": "('invalid_scope: Bad Request', {'error': 'invalid_scope', 'error_description': 'Bad Request'})",
     "output_type": "error",
     "traceback": [
      "\u001B[0;31m---------------------------------------------------------------------------\u001B[0m",
      "\u001B[0;31mRefreshError\u001B[0m                              Traceback (most recent call last)",
      "Cell \u001B[0;32mIn[24], line 21\u001B[0m\n\u001B[1;32m     18\u001B[0m file_id \u001B[38;5;241m=\u001B[39m \u001B[38;5;124m\"\u001B[39m\u001B[38;5;124m1WOcaZOyHYGhebc80gsgoLjw4ofabIymCJkq7smgvsH8\u001B[39m\u001B[38;5;124m\"\u001B[39m\n\u001B[1;32m     20\u001B[0m \u001B[38;5;66;03m# Make a request to get the file metadata\u001B[39;00m\n\u001B[0;32m---> 21\u001B[0m file_metadata \u001B[38;5;241m=\u001B[39m \u001B[43mdrive_service\u001B[49m\u001B[38;5;241;43m.\u001B[39;49m\u001B[43mfiles\u001B[49m\u001B[43m(\u001B[49m\u001B[43m)\u001B[49m\u001B[38;5;241;43m.\u001B[39;49m\u001B[43mget\u001B[49m\u001B[43m(\u001B[49m\u001B[43mfileId\u001B[49m\u001B[38;5;241;43m=\u001B[39;49m\u001B[43mfile_id\u001B[49m\u001B[43m)\u001B[49m\u001B[38;5;241;43m.\u001B[39;49m\u001B[43mexecute\u001B[49m\u001B[43m(\u001B[49m\u001B[43m)\u001B[49m\n\u001B[1;32m     23\u001B[0m \u001B[38;5;66;03m# Get the file content\u001B[39;00m\n\u001B[1;32m     24\u001B[0m file_content \u001B[38;5;241m=\u001B[39m drive_service\u001B[38;5;241m.\u001B[39mfiles()\u001B[38;5;241m.\u001B[39mget_media(fileId\u001B[38;5;241m=\u001B[39mfile_id)\u001B[38;5;241m.\u001B[39mexecute()\n",
      "File \u001B[0;32m~/DataspellProjects/venvs/venv311/lib/python3.11/site-packages/googleapiclient/_helpers.py:130\u001B[0m, in \u001B[0;36mpositional.<locals>.positional_decorator.<locals>.positional_wrapper\u001B[0;34m(*args, **kwargs)\u001B[0m\n\u001B[1;32m    128\u001B[0m     \u001B[38;5;28;01melif\u001B[39;00m positional_parameters_enforcement \u001B[38;5;241m==\u001B[39m POSITIONAL_WARNING:\n\u001B[1;32m    129\u001B[0m         logger\u001B[38;5;241m.\u001B[39mwarning(message)\n\u001B[0;32m--> 130\u001B[0m \u001B[38;5;28;01mreturn\u001B[39;00m \u001B[43mwrapped\u001B[49m\u001B[43m(\u001B[49m\u001B[38;5;241;43m*\u001B[39;49m\u001B[43margs\u001B[49m\u001B[43m,\u001B[49m\u001B[43m \u001B[49m\u001B[38;5;241;43m*\u001B[39;49m\u001B[38;5;241;43m*\u001B[39;49m\u001B[43mkwargs\u001B[49m\u001B[43m)\u001B[49m\n",
      "File \u001B[0;32m~/DataspellProjects/venvs/venv311/lib/python3.11/site-packages/googleapiclient/http.py:923\u001B[0m, in \u001B[0;36mHttpRequest.execute\u001B[0;34m(self, http, num_retries)\u001B[0m\n\u001B[1;32m    920\u001B[0m     \u001B[38;5;28mself\u001B[39m\u001B[38;5;241m.\u001B[39mheaders[\u001B[38;5;124m\"\u001B[39m\u001B[38;5;124mcontent-length\u001B[39m\u001B[38;5;124m\"\u001B[39m] \u001B[38;5;241m=\u001B[39m \u001B[38;5;28mstr\u001B[39m(\u001B[38;5;28mlen\u001B[39m(\u001B[38;5;28mself\u001B[39m\u001B[38;5;241m.\u001B[39mbody))\n\u001B[1;32m    922\u001B[0m \u001B[38;5;66;03m# Handle retries for server-side errors.\u001B[39;00m\n\u001B[0;32m--> 923\u001B[0m resp, content \u001B[38;5;241m=\u001B[39m \u001B[43m_retry_request\u001B[49m\u001B[43m(\u001B[49m\n\u001B[1;32m    924\u001B[0m \u001B[43m    \u001B[49m\u001B[43mhttp\u001B[49m\u001B[43m,\u001B[49m\n\u001B[1;32m    925\u001B[0m \u001B[43m    \u001B[49m\u001B[43mnum_retries\u001B[49m\u001B[43m,\u001B[49m\n\u001B[1;32m    926\u001B[0m \u001B[43m    \u001B[49m\u001B[38;5;124;43m\"\u001B[39;49m\u001B[38;5;124;43mrequest\u001B[39;49m\u001B[38;5;124;43m\"\u001B[39;49m\u001B[43m,\u001B[49m\n\u001B[1;32m    927\u001B[0m \u001B[43m    \u001B[49m\u001B[38;5;28;43mself\u001B[39;49m\u001B[38;5;241;43m.\u001B[39;49m\u001B[43m_sleep\u001B[49m\u001B[43m,\u001B[49m\n\u001B[1;32m    928\u001B[0m \u001B[43m    \u001B[49m\u001B[38;5;28;43mself\u001B[39;49m\u001B[38;5;241;43m.\u001B[39;49m\u001B[43m_rand\u001B[49m\u001B[43m,\u001B[49m\n\u001B[1;32m    929\u001B[0m \u001B[43m    \u001B[49m\u001B[38;5;28;43mstr\u001B[39;49m\u001B[43m(\u001B[49m\u001B[38;5;28;43mself\u001B[39;49m\u001B[38;5;241;43m.\u001B[39;49m\u001B[43muri\u001B[49m\u001B[43m)\u001B[49m\u001B[43m,\u001B[49m\n\u001B[1;32m    930\u001B[0m \u001B[43m    \u001B[49m\u001B[43mmethod\u001B[49m\u001B[38;5;241;43m=\u001B[39;49m\u001B[38;5;28;43mstr\u001B[39;49m\u001B[43m(\u001B[49m\u001B[38;5;28;43mself\u001B[39;49m\u001B[38;5;241;43m.\u001B[39;49m\u001B[43mmethod\u001B[49m\u001B[43m)\u001B[49m\u001B[43m,\u001B[49m\n\u001B[1;32m    931\u001B[0m \u001B[43m    \u001B[49m\u001B[43mbody\u001B[49m\u001B[38;5;241;43m=\u001B[39;49m\u001B[38;5;28;43mself\u001B[39;49m\u001B[38;5;241;43m.\u001B[39;49m\u001B[43mbody\u001B[49m\u001B[43m,\u001B[49m\n\u001B[1;32m    932\u001B[0m \u001B[43m    \u001B[49m\u001B[43mheaders\u001B[49m\u001B[38;5;241;43m=\u001B[39;49m\u001B[38;5;28;43mself\u001B[39;49m\u001B[38;5;241;43m.\u001B[39;49m\u001B[43mheaders\u001B[49m\u001B[43m,\u001B[49m\n\u001B[1;32m    933\u001B[0m \u001B[43m\u001B[49m\u001B[43m)\u001B[49m\n\u001B[1;32m    935\u001B[0m \u001B[38;5;28;01mfor\u001B[39;00m callback \u001B[38;5;129;01min\u001B[39;00m \u001B[38;5;28mself\u001B[39m\u001B[38;5;241m.\u001B[39mresponse_callbacks:\n\u001B[1;32m    936\u001B[0m     callback(resp)\n",
      "File \u001B[0;32m~/DataspellProjects/venvs/venv311/lib/python3.11/site-packages/googleapiclient/http.py:191\u001B[0m, in \u001B[0;36m_retry_request\u001B[0;34m(http, num_retries, req_type, sleep, rand, uri, method, *args, **kwargs)\u001B[0m\n\u001B[1;32m    189\u001B[0m \u001B[38;5;28;01mtry\u001B[39;00m:\n\u001B[1;32m    190\u001B[0m     exception \u001B[38;5;241m=\u001B[39m \u001B[38;5;28;01mNone\u001B[39;00m\n\u001B[0;32m--> 191\u001B[0m     resp, content \u001B[38;5;241m=\u001B[39m \u001B[43mhttp\u001B[49m\u001B[38;5;241;43m.\u001B[39;49m\u001B[43mrequest\u001B[49m\u001B[43m(\u001B[49m\u001B[43muri\u001B[49m\u001B[43m,\u001B[49m\u001B[43m \u001B[49m\u001B[43mmethod\u001B[49m\u001B[43m,\u001B[49m\u001B[43m \u001B[49m\u001B[38;5;241;43m*\u001B[39;49m\u001B[43margs\u001B[49m\u001B[43m,\u001B[49m\u001B[43m \u001B[49m\u001B[38;5;241;43m*\u001B[39;49m\u001B[38;5;241;43m*\u001B[39;49m\u001B[43mkwargs\u001B[49m\u001B[43m)\u001B[49m\n\u001B[1;32m    192\u001B[0m \u001B[38;5;66;03m# Retry on SSL errors and socket timeout errors.\u001B[39;00m\n\u001B[1;32m    193\u001B[0m \u001B[38;5;28;01mexcept\u001B[39;00m _ssl_SSLError \u001B[38;5;28;01mas\u001B[39;00m ssl_error:\n",
      "File \u001B[0;32m~/DataspellProjects/venvs/venv311/lib/python3.11/site-packages/google_auth_httplib2.py:209\u001B[0m, in \u001B[0;36mAuthorizedHttp.request\u001B[0;34m(self, uri, method, body, headers, redirections, connection_type, **kwargs)\u001B[0m\n\u001B[1;32m    205\u001B[0m \u001B[38;5;66;03m# Make a copy of the headers. They will be modified by the credentials\u001B[39;00m\n\u001B[1;32m    206\u001B[0m \u001B[38;5;66;03m# and we want to pass the original headers if we recurse.\u001B[39;00m\n\u001B[1;32m    207\u001B[0m request_headers \u001B[38;5;241m=\u001B[39m headers\u001B[38;5;241m.\u001B[39mcopy() \u001B[38;5;28;01mif\u001B[39;00m headers \u001B[38;5;129;01mis\u001B[39;00m \u001B[38;5;129;01mnot\u001B[39;00m \u001B[38;5;28;01mNone\u001B[39;00m \u001B[38;5;28;01melse\u001B[39;00m {}\n\u001B[0;32m--> 209\u001B[0m \u001B[38;5;28;43mself\u001B[39;49m\u001B[38;5;241;43m.\u001B[39;49m\u001B[43mcredentials\u001B[49m\u001B[38;5;241;43m.\u001B[39;49m\u001B[43mbefore_request\u001B[49m\u001B[43m(\u001B[49m\u001B[38;5;28;43mself\u001B[39;49m\u001B[38;5;241;43m.\u001B[39;49m\u001B[43m_request\u001B[49m\u001B[43m,\u001B[49m\u001B[43m \u001B[49m\u001B[43mmethod\u001B[49m\u001B[43m,\u001B[49m\u001B[43m \u001B[49m\u001B[43muri\u001B[49m\u001B[43m,\u001B[49m\u001B[43m \u001B[49m\u001B[43mrequest_headers\u001B[49m\u001B[43m)\u001B[49m\n\u001B[1;32m    211\u001B[0m \u001B[38;5;66;03m# Check if the body is a file-like stream, and if so, save the body\u001B[39;00m\n\u001B[1;32m    212\u001B[0m \u001B[38;5;66;03m# stream position so that it can be restored in case of refresh.\u001B[39;00m\n\u001B[1;32m    213\u001B[0m body_stream_position \u001B[38;5;241m=\u001B[39m \u001B[38;5;28;01mNone\u001B[39;00m\n",
      "File \u001B[0;32m~/DataspellProjects/venvs/venv311/lib/python3.11/site-packages/google/auth/credentials.py:230\u001B[0m, in \u001B[0;36mCredentials.before_request\u001B[0;34m(self, request, method, url, headers)\u001B[0m\n\u001B[1;32m    228\u001B[0m     \u001B[38;5;28mself\u001B[39m\u001B[38;5;241m.\u001B[39m_non_blocking_refresh(request)\n\u001B[1;32m    229\u001B[0m \u001B[38;5;28;01melse\u001B[39;00m:\n\u001B[0;32m--> 230\u001B[0m     \u001B[38;5;28;43mself\u001B[39;49m\u001B[38;5;241;43m.\u001B[39;49m\u001B[43m_blocking_refresh\u001B[49m\u001B[43m(\u001B[49m\u001B[43mrequest\u001B[49m\u001B[43m)\u001B[49m\n\u001B[1;32m    232\u001B[0m metrics\u001B[38;5;241m.\u001B[39madd_metric_header(headers, \u001B[38;5;28mself\u001B[39m\u001B[38;5;241m.\u001B[39m_metric_header_for_usage())\n\u001B[1;32m    233\u001B[0m \u001B[38;5;28mself\u001B[39m\u001B[38;5;241m.\u001B[39mapply(headers)\n",
      "File \u001B[0;32m~/DataspellProjects/venvs/venv311/lib/python3.11/site-packages/google/auth/credentials.py:193\u001B[0m, in \u001B[0;36mCredentials._blocking_refresh\u001B[0;34m(self, request)\u001B[0m\n\u001B[1;32m    191\u001B[0m \u001B[38;5;28;01mdef\u001B[39;00m \u001B[38;5;21m_blocking_refresh\u001B[39m(\u001B[38;5;28mself\u001B[39m, request):\n\u001B[1;32m    192\u001B[0m     \u001B[38;5;28;01mif\u001B[39;00m \u001B[38;5;129;01mnot\u001B[39;00m \u001B[38;5;28mself\u001B[39m\u001B[38;5;241m.\u001B[39mvalid:\n\u001B[0;32m--> 193\u001B[0m         \u001B[38;5;28;43mself\u001B[39;49m\u001B[38;5;241;43m.\u001B[39;49m\u001B[43mrefresh\u001B[49m\u001B[43m(\u001B[49m\u001B[43mrequest\u001B[49m\u001B[43m)\u001B[49m\n",
      "File \u001B[0;32m~/DataspellProjects/venvs/venv311/lib/python3.11/site-packages/google/oauth2/credentials.py:431\u001B[0m, in \u001B[0;36mCredentials.refresh\u001B[0;34m(self, request)\u001B[0m\n\u001B[1;32m    413\u001B[0m \u001B[38;5;28;01mif\u001B[39;00m (\n\u001B[1;32m    414\u001B[0m     \u001B[38;5;28mself\u001B[39m\u001B[38;5;241m.\u001B[39m_refresh_token \u001B[38;5;129;01mis\u001B[39;00m \u001B[38;5;28;01mNone\u001B[39;00m\n\u001B[1;32m    415\u001B[0m     \u001B[38;5;129;01mor\u001B[39;00m \u001B[38;5;28mself\u001B[39m\u001B[38;5;241m.\u001B[39m_token_uri \u001B[38;5;129;01mis\u001B[39;00m \u001B[38;5;28;01mNone\u001B[39;00m\n\u001B[1;32m    416\u001B[0m     \u001B[38;5;129;01mor\u001B[39;00m \u001B[38;5;28mself\u001B[39m\u001B[38;5;241m.\u001B[39m_client_id \u001B[38;5;129;01mis\u001B[39;00m \u001B[38;5;28;01mNone\u001B[39;00m\n\u001B[1;32m    417\u001B[0m     \u001B[38;5;129;01mor\u001B[39;00m \u001B[38;5;28mself\u001B[39m\u001B[38;5;241m.\u001B[39m_client_secret \u001B[38;5;129;01mis\u001B[39;00m \u001B[38;5;28;01mNone\u001B[39;00m\n\u001B[1;32m    418\u001B[0m ):\n\u001B[1;32m    419\u001B[0m     \u001B[38;5;28;01mraise\u001B[39;00m exceptions\u001B[38;5;241m.\u001B[39mRefreshError(\n\u001B[1;32m    420\u001B[0m         \u001B[38;5;124m\"\u001B[39m\u001B[38;5;124mThe credentials do not contain the necessary fields need to \u001B[39m\u001B[38;5;124m\"\u001B[39m\n\u001B[1;32m    421\u001B[0m         \u001B[38;5;124m\"\u001B[39m\u001B[38;5;124mrefresh the access token. You must specify refresh_token, \u001B[39m\u001B[38;5;124m\"\u001B[39m\n\u001B[1;32m    422\u001B[0m         \u001B[38;5;124m\"\u001B[39m\u001B[38;5;124mtoken_uri, client_id, and client_secret.\u001B[39m\u001B[38;5;124m\"\u001B[39m\n\u001B[1;32m    423\u001B[0m     )\n\u001B[1;32m    425\u001B[0m (\n\u001B[1;32m    426\u001B[0m     access_token,\n\u001B[1;32m    427\u001B[0m     refresh_token,\n\u001B[1;32m    428\u001B[0m     expiry,\n\u001B[1;32m    429\u001B[0m     grant_response,\n\u001B[1;32m    430\u001B[0m     rapt_token,\n\u001B[0;32m--> 431\u001B[0m ) \u001B[38;5;241m=\u001B[39m \u001B[43mreauth\u001B[49m\u001B[38;5;241;43m.\u001B[39;49m\u001B[43mrefresh_grant\u001B[49m\u001B[43m(\u001B[49m\n\u001B[1;32m    432\u001B[0m \u001B[43m    \u001B[49m\u001B[43mrequest\u001B[49m\u001B[43m,\u001B[49m\n\u001B[1;32m    433\u001B[0m \u001B[43m    \u001B[49m\u001B[38;5;28;43mself\u001B[39;49m\u001B[38;5;241;43m.\u001B[39;49m\u001B[43m_token_uri\u001B[49m\u001B[43m,\u001B[49m\n\u001B[1;32m    434\u001B[0m \u001B[43m    \u001B[49m\u001B[38;5;28;43mself\u001B[39;49m\u001B[38;5;241;43m.\u001B[39;49m\u001B[43m_refresh_token\u001B[49m\u001B[43m,\u001B[49m\n\u001B[1;32m    435\u001B[0m \u001B[43m    \u001B[49m\u001B[38;5;28;43mself\u001B[39;49m\u001B[38;5;241;43m.\u001B[39;49m\u001B[43m_client_id\u001B[49m\u001B[43m,\u001B[49m\n\u001B[1;32m    436\u001B[0m \u001B[43m    \u001B[49m\u001B[38;5;28;43mself\u001B[39;49m\u001B[38;5;241;43m.\u001B[39;49m\u001B[43m_client_secret\u001B[49m\u001B[43m,\u001B[49m\n\u001B[1;32m    437\u001B[0m \u001B[43m    \u001B[49m\u001B[43mscopes\u001B[49m\u001B[38;5;241;43m=\u001B[39;49m\u001B[43mscopes\u001B[49m\u001B[43m,\u001B[49m\n\u001B[1;32m    438\u001B[0m \u001B[43m    \u001B[49m\u001B[43mrapt_token\u001B[49m\u001B[38;5;241;43m=\u001B[39;49m\u001B[38;5;28;43mself\u001B[39;49m\u001B[38;5;241;43m.\u001B[39;49m\u001B[43m_rapt_token\u001B[49m\u001B[43m,\u001B[49m\n\u001B[1;32m    439\u001B[0m \u001B[43m    \u001B[49m\u001B[43menable_reauth_refresh\u001B[49m\u001B[38;5;241;43m=\u001B[39;49m\u001B[38;5;28;43mself\u001B[39;49m\u001B[38;5;241;43m.\u001B[39;49m\u001B[43m_enable_reauth_refresh\u001B[49m\u001B[43m,\u001B[49m\n\u001B[1;32m    440\u001B[0m \u001B[43m\u001B[49m\u001B[43m)\u001B[49m\n\u001B[1;32m    442\u001B[0m \u001B[38;5;28mself\u001B[39m\u001B[38;5;241m.\u001B[39mtoken \u001B[38;5;241m=\u001B[39m access_token\n\u001B[1;32m    443\u001B[0m \u001B[38;5;28mself\u001B[39m\u001B[38;5;241m.\u001B[39mexpiry \u001B[38;5;241m=\u001B[39m expiry\n",
      "File \u001B[0;32m~/DataspellProjects/venvs/venv311/lib/python3.11/site-packages/google/oauth2/reauth.py:365\u001B[0m, in \u001B[0;36mrefresh_grant\u001B[0;34m(request, token_uri, refresh_token, client_id, client_secret, scopes, rapt_token, enable_reauth_refresh)\u001B[0m\n\u001B[1;32m    356\u001B[0m     (\n\u001B[1;32m    357\u001B[0m         response_status_ok,\n\u001B[1;32m    358\u001B[0m         response_data,\n\u001B[0;32m   (...)\u001B[0m\n\u001B[1;32m    361\u001B[0m         request, token_uri, body, headers\u001B[38;5;241m=\u001B[39mmetrics_header\n\u001B[1;32m    362\u001B[0m     )\n\u001B[1;32m    364\u001B[0m \u001B[38;5;28;01mif\u001B[39;00m \u001B[38;5;129;01mnot\u001B[39;00m response_status_ok:\n\u001B[0;32m--> 365\u001B[0m     \u001B[43m_client\u001B[49m\u001B[38;5;241;43m.\u001B[39;49m\u001B[43m_handle_error_response\u001B[49m\u001B[43m(\u001B[49m\u001B[43mresponse_data\u001B[49m\u001B[43m,\u001B[49m\u001B[43m \u001B[49m\u001B[43mretryable_error\u001B[49m\u001B[43m)\u001B[49m\n\u001B[1;32m    366\u001B[0m \u001B[38;5;28;01mreturn\u001B[39;00m _client\u001B[38;5;241m.\u001B[39m_handle_refresh_grant_response(response_data, refresh_token) \u001B[38;5;241m+\u001B[39m (\n\u001B[1;32m    367\u001B[0m     rapt_token,\n\u001B[1;32m    368\u001B[0m )\n",
      "File \u001B[0;32m~/DataspellProjects/venvs/venv311/lib/python3.11/site-packages/google/oauth2/_client.py:72\u001B[0m, in \u001B[0;36m_handle_error_response\u001B[0;34m(response_data, retryable_error)\u001B[0m\n\u001B[1;32m     69\u001B[0m \u001B[38;5;28;01mexcept\u001B[39;00m (\u001B[38;5;167;01mKeyError\u001B[39;00m, \u001B[38;5;167;01mValueError\u001B[39;00m):\n\u001B[1;32m     70\u001B[0m     error_details \u001B[38;5;241m=\u001B[39m json\u001B[38;5;241m.\u001B[39mdumps(response_data)\n\u001B[0;32m---> 72\u001B[0m \u001B[38;5;28;01mraise\u001B[39;00m exceptions\u001B[38;5;241m.\u001B[39mRefreshError(\n\u001B[1;32m     73\u001B[0m     error_details, response_data, retryable\u001B[38;5;241m=\u001B[39mretryable_error\n\u001B[1;32m     74\u001B[0m )\n",
      "\u001B[0;31mRefreshError\u001B[0m: ('invalid_scope: Bad Request', {'error': 'invalid_scope', 'error_description': 'Bad Request'})"
     ]
    }
   ],
   "execution_count": 24
  },
  {
   "metadata": {},
   "cell_type": "code",
   "outputs": [],
   "execution_count": null,
   "source": "",
   "id": "e438499fa7b9d035"
  },
  {
   "metadata": {},
   "cell_type": "code",
   "outputs": [],
   "execution_count": null,
   "source": "",
   "id": "ca0cde767fe45eec"
  },
  {
   "metadata": {},
   "cell_type": "code",
   "outputs": [],
   "execution_count": null,
   "source": "",
   "id": "38533f3325c55175"
  },
  {
   "metadata": {},
   "cell_type": "code",
   "outputs": [],
   "execution_count": null,
   "source": "",
   "id": "87fbce40c86506b8"
  },
  {
   "metadata": {
    "ExecuteTime": {
     "end_time": "2024-04-22T00:55:28.396897Z",
     "start_time": "2024-04-22T00:55:28.358934Z"
    }
   },
   "cell_type": "code",
   "source": [
    "from google.oauth2.credentials import Credentials\n",
    "from googleapiclient.discovery import build\n",
    "\n",
    "# Set up the credentials (you'll need to create and configure OAuth 2.0 credentials)\n",
    "creds = Credentials.from_service_account_file(\n",
    "    {\n",
    "        \"installed\": {\n",
    "            \"client_id\": \"382496031737-aijqc6gaaluue6e14evksvh05gootvng.apps.googleusercontent.com\",\n",
    "            \"project_id\": \"cecilvega\",\n",
    "            \"auth_uri\": \"https://accounts.google.com/o/oauth2/auth\",\n",
    "            \"token_uri\": \"https://oauth2.googleapis.com/token\",\n",
    "            \"auth_provider_x509_cert_url\": \"https://www.googleapis.com/oauth2/v1/certs\",\n",
    "            \"client_secret\": \"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\",\n",
    "            \"redirect_uris\": [\"http://localhost\"],\n",
    "        }\n",
    "    },\n",
    "    [\"https://www.googleapis.com/auth/drive.readonly\"],\n",
    ")"
   ],
   "id": "74bbabd662a2d729",
   "outputs": [
    {
     "ename": "ValueError",
     "evalue": "Authorized user info was not in the expected format, missing fields client_id, client_secret, refresh_token.",
     "output_type": "error",
     "traceback": [
      "\u001B[0;31m---------------------------------------------------------------------------\u001B[0m",
      "\u001B[0;31mValueError\u001B[0m                                Traceback (most recent call last)",
      "Cell \u001B[0;32mIn[7], line 5\u001B[0m\n\u001B[1;32m      2\u001B[0m \u001B[38;5;28;01mfrom\u001B[39;00m \u001B[38;5;21;01mgoogleapiclient\u001B[39;00m\u001B[38;5;21;01m.\u001B[39;00m\u001B[38;5;21;01mdiscovery\u001B[39;00m \u001B[38;5;28;01mimport\u001B[39;00m build\n\u001B[1;32m      4\u001B[0m \u001B[38;5;66;03m# Set up the credentials (you'll need to create and configure OAuth 2.0 credentials)\u001B[39;00m\n\u001B[0;32m----> 5\u001B[0m creds \u001B[38;5;241m=\u001B[39m \u001B[43mCredentials\u001B[49m\u001B[38;5;241;43m.\u001B[39;49m\u001B[43mfrom_authorized_user_info\u001B[49m\u001B[43m(\u001B[49m\n\u001B[1;32m      6\u001B[0m \u001B[43m    \u001B[49m\u001B[43m{\u001B[49m\n\u001B[1;32m      7\u001B[0m \u001B[43m        \u001B[49m\u001B[38;5;124;43m\"\u001B[39;49m\u001B[38;5;124;43minstalled\u001B[39;49m\u001B[38;5;124;43m\"\u001B[39;49m\u001B[43m:\u001B[49m\u001B[43m \u001B[49m\u001B[43m{\u001B[49m\n\u001B[1;32m      8\u001B[0m \u001B[43m            \u001B[49m\u001B[38;5;124;43m\"\u001B[39;49m\u001B[38;5;124;43mclient_id\u001B[39;49m\u001B[38;5;124;43m\"\u001B[39;49m\u001B[43m:\u001B[49m\u001B[43m \u001B[49m\u001B[38;5;124;43m\"\u001B[39;49m\u001B[38;5;124;43m382496031737-aijqc6gaaluue6e14evksvh05gootvng.apps.googleusercontent.com\u001B[39;49m\u001B[38;5;124;43m\"\u001B[39;49m\u001B[43m,\u001B[49m\n\u001B[1;32m      9\u001B[0m \u001B[43m            \u001B[49m\u001B[38;5;124;43m\"\u001B[39;49m\u001B[38;5;124;43mproject_id\u001B[39;49m\u001B[38;5;124;43m\"\u001B[39;49m\u001B[43m:\u001B[49m\u001B[43m \u001B[49m\u001B[38;5;124;43m\"\u001B[39;49m\u001B[38;5;124;43mcecilvega\u001B[39;49m\u001B[38;5;124;43m\"\u001B[39;49m\u001B[43m,\u001B[49m\n\u001B[1;32m     10\u001B[0m \u001B[43m            \u001B[49m\u001B[38;5;124;43m\"\u001B[39;49m\u001B[38;5;124;43mauth_uri\u001B[39;49m\u001B[38;5;124;43m\"\u001B[39;49m\u001B[43m:\u001B[49m\u001B[43m \u001B[49m\u001B[38;5;124;43m\"\u001B[39;49m\u001B[38;5;124;43mhttps://accounts.google.com/o/oauth2/auth\u001B[39;49m\u001B[38;5;124;43m\"\u001B[39;49m\u001B[43m,\u001B[49m\n\u001B[1;32m     11\u001B[0m \u001B[43m            \u001B[49m\u001B[38;5;124;43m\"\u001B[39;49m\u001B[38;5;124;43mtoken_uri\u001B[39;49m\u001B[38;5;124;43m\"\u001B[39;49m\u001B[43m:\u001B[49m\u001B[43m \u001B[49m\u001B[38;5;124;43m\"\u001B[39;49m\u001B[38;5;124;43mhttps://oauth2.googleapis.com/token\u001B[39;49m\u001B[38;5;124;43m\"\u001B[39;49m\u001B[43m,\u001B[49m\n\u001B[1;32m     12\u001B[0m \u001B[43m            \u001B[49m\u001B[38;5;124;43m\"\u001B[39;49m\u001B[38;5;124;43mauth_provider_x509_cert_url\u001B[39;49m\u001B[38;5;124;43m\"\u001B[39;49m\u001B[43m:\u001B[49m\u001B[43m \u001B[49m\u001B[38;5;124;43m\"\u001B[39;49m\u001B[38;5;124;43mhttps://www.googleapis.com/oauth2/v1/certs\u001B[39;49m\u001B[38;5;124;43m\"\u001B[39;49m\u001B[43m,\u001B[49m\n\u001B[1;32m     13\u001B[0m \u001B[43m            \u001B[49m\u001B[38;5;124;43m\"\u001B[39;49m\u001B[38;5;124;43mclient_secret\u001B[39;49m\u001B[38;5;124;43m\"\u001B[39;49m\u001B[43m:\u001B[49m\u001B[43m \u001B[49m\u001B[38;5;124;43m\"\u001B[39;49m\u001B[38;5;124;43mGOCSPX-ltai5FjIW_j7YoFwncpWUbO_5HAY\u001B[39;49m\u001B[38;5;124;43m\"\u001B[39;49m\u001B[43m,\u001B[49m\n\u001B[1;32m     14\u001B[0m \u001B[43m            \u001B[49m\u001B[38;5;124;43m\"\u001B[39;49m\u001B[38;5;124;43mredirect_uris\u001B[39;49m\u001B[38;5;124;43m\"\u001B[39;49m\u001B[43m:\u001B[49m\u001B[43m \u001B[49m\u001B[43m[\u001B[49m\u001B[38;5;124;43m\"\u001B[39;49m\u001B[38;5;124;43mhttp://localhost\u001B[39;49m\u001B[38;5;124;43m\"\u001B[39;49m\u001B[43m]\u001B[49m\u001B[43m,\u001B[49m\n\u001B[1;32m     15\u001B[0m \u001B[43m        \u001B[49m\u001B[43m}\u001B[49m\n\u001B[1;32m     16\u001B[0m \u001B[43m    \u001B[49m\u001B[43m}\u001B[49m\u001B[43m,\u001B[49m\n\u001B[1;32m     17\u001B[0m \u001B[43m    \u001B[49m\u001B[43m[\u001B[49m\u001B[38;5;124;43m\"\u001B[39;49m\u001B[38;5;124;43mhttps://www.googleapis.com/auth/drive.readonly\u001B[39;49m\u001B[38;5;124;43m\"\u001B[39;49m\u001B[43m]\u001B[49m\u001B[43m,\u001B[49m\n\u001B[1;32m     18\u001B[0m \u001B[43m)\u001B[49m\n",
      "File \u001B[0;32m~/DataspellProjects/venvs/venv311/lib/python3.11/site-packages/google/oauth2/credentials.py:486\u001B[0m, in \u001B[0;36mCredentials.from_authorized_user_info\u001B[0;34m(cls, info, scopes)\u001B[0m\n\u001B[1;32m    483\u001B[0m missing \u001B[38;5;241m=\u001B[39m keys_needed\u001B[38;5;241m.\u001B[39mdifference(info\u001B[38;5;241m.\u001B[39mkeys())\n\u001B[1;32m    485\u001B[0m \u001B[38;5;28;01mif\u001B[39;00m missing:\n\u001B[0;32m--> 486\u001B[0m     \u001B[38;5;28;01mraise\u001B[39;00m \u001B[38;5;167;01mValueError\u001B[39;00m(\n\u001B[1;32m    487\u001B[0m         \u001B[38;5;124m\"\u001B[39m\u001B[38;5;124mAuthorized user info was not in the expected format, missing \u001B[39m\u001B[38;5;124m\"\u001B[39m\n\u001B[1;32m    488\u001B[0m         \u001B[38;5;124m\"\u001B[39m\u001B[38;5;124mfields \u001B[39m\u001B[38;5;132;01m{}\u001B[39;00m\u001B[38;5;124m.\u001B[39m\u001B[38;5;124m\"\u001B[39m\u001B[38;5;241m.\u001B[39mformat(\u001B[38;5;124m\"\u001B[39m\u001B[38;5;124m, \u001B[39m\u001B[38;5;124m\"\u001B[39m\u001B[38;5;241m.\u001B[39mjoin(missing))\n\u001B[1;32m    489\u001B[0m     )\n\u001B[1;32m    491\u001B[0m \u001B[38;5;66;03m# access token expiry (datetime obj); auto-expire if not saved\u001B[39;00m\n\u001B[1;32m    492\u001B[0m expiry \u001B[38;5;241m=\u001B[39m info\u001B[38;5;241m.\u001B[39mget(\u001B[38;5;124m\"\u001B[39m\u001B[38;5;124mexpiry\u001B[39m\u001B[38;5;124m\"\u001B[39m)\n",
      "\u001B[0;31mValueError\u001B[0m: Authorized user info was not in the expected format, missing fields client_id, client_secret, refresh_token."
     ]
    }
   ],
   "execution_count": 7
  },
  {
   "metadata": {
    "ExecuteTime": {
     "end_time": "2024-04-21T21:30:10.219959Z",
     "start_time": "2024-04-21T21:30:10.208556Z"
    }
   },
   "cell_type": "code",
   "source": "creds",
   "id": "b717e19fcba5e18",
   "outputs": [
    {
     "ename": "NameError",
     "evalue": "name 'creds' is not defined",
     "output_type": "error",
     "traceback": [
      "\u001B[0;31m---------------------------------------------------------------------------\u001B[0m",
      "\u001B[0;31mNameError\u001B[0m                                 Traceback (most recent call last)",
      "Cell \u001B[0;32mIn[2], line 1\u001B[0m\n\u001B[0;32m----> 1\u001B[0m \u001B[43mcreds\u001B[49m\n",
      "\u001B[0;31mNameError\u001B[0m: name 'creds' is not defined"
     ]
    }
   ],
   "execution_count": 2
  },
  {
   "metadata": {},
   "cell_type": "code",
   "outputs": [],
   "execution_count": null,
   "source": [
    "# Create a Drive API client\n",
    "drive_service = build(\"drive\", \"v3\", credentials=creds)\n",
    "\n",
    "# Specify the file ID of the file you want to read\n",
    "file_id = \"your_file_id_here\"\n",
    "\n",
    "# Make a request to get the file metadata\n",
    "file_metadata = drive_service.files().get(fileId=file_id).execute()\n",
    "\n",
    "# Get the file content\n",
    "file_content = drive_service.files().get_media(fileId=file_id).execute()\n",
    "\n",
    "# Process the file content as needed\n",
    "print(file_content.decode(\"utf-8\"))"
   ],
   "id": "8e588877e7d959c3"
  },
  {
   "cell_type": "code",
   "id": "initial_id",
   "metadata": {
    "collapsed": true,
    "ExecuteTime": {
     "end_time": "2024-04-21T01:16:07.283969Z",
     "start_time": "2024-04-21T01:16:07.281225Z"
    }
   },
   "source": "3243045 + 1273218 + 741581",
   "outputs": [
    {
     "data": {
      "text/plain": [
       "5257844"
      ]
     },
     "execution_count": 6,
     "metadata": {},
     "output_type": "execute_result"
    }
   ],
   "execution_count": 6
  },
  {
   "metadata": {
    "ExecuteTime": {
     "end_time": "2024-04-21T00:44:52.068113Z",
     "start_time": "2024-04-21T00:44:52.057915Z"
    }
   },
   "cell_type": "code",
   "source": [
    "878002 + 395216"
   ],
   "id": "1379ad9640bef7a2",
   "outputs": [
    {
     "data": {
      "text/plain": [
       "1273218"
      ]
     },
     "execution_count": 3,
     "metadata": {},
     "output_type": "execute_result"
    }
   ],
   "execution_count": 3
  },
  {
   "metadata": {
    "ExecuteTime": {
     "end_time": "2024-04-21T02:00:49.890343Z",
     "start_time": "2024-04-21T02:00:49.880736Z"
    }
   },
   "cell_type": "code",
   "source": [
    "24 * 166297"
   ],
   "id": "e60bcf41b4d4c006",
   "outputs": [
    {
     "data": {
      "text/plain": [
       "3991128"
      ]
     },
     "execution_count": 8,
     "metadata": {},
     "output_type": "execute_result"
    }
   ],
   "execution_count": 8
  }
 ],
 "metadata": {
  "kernelspec": {
   "display_name": "Python 3",
   "language": "python",
   "name": "python3"
  },
  "language_info": {
   "codemirror_mode": {
    "name": "ipython",
    "version": 2
   },
   "file_extension": ".py",
   "mimetype": "text/x-python",
   "name": "python",
   "nbconvert_exporter": "python",
   "pygments_lexer": "ipython2",
   "version": "2.7.6"
  }
 },
 "nbformat": 4,
 "nbformat_minor": 5
}
