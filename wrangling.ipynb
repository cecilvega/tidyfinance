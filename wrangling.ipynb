{
 "cells": [
  {
   "metadata": {},
   "cell_type": "code",
   "source": [
    "from google.oauth2.credentials import Credentials\n",
    "from google_auth_oauthlib.flow import InstalledAppFlow\n",
    "from googleapiclient.discovery import build\n",
    "\n",
    "# Set up the OAuth 2.0 flow\n",
    "# flow = InstalledAppFlow.from_client_config(\n",
    "#     {\n",
    "#         \"installed\": {\n",
    "#             \"client_id\": \"382496031737-aijqc6gaaluue6e14evksvh05gootvng.apps.googleusercontent.com\",\n",
    "#             \"project_id\": \"cecilvega\",\n",
    "#             \"auth_uri\": \"https://accounts.google.com/o/oauth2/auth\",\n",
    "#             \"token_uri\": \"https://oauth2.googleapis.com/token\",\n",
    "#             \"auth_provider_x509_cert_url\": \"https://www.googleapis.com/oauth2/v1/certs\",\n",
    "#             \"client_secret\": \"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\",\n",
    "#             \"redirect_uris\": [\"http://localhost\"],\n",
    "#         }\n",
    "#     },\n",
    "#     scopes=[\"https://www.googleapis.com/auth/drive.readonly\"],\n",
    "# )\n",
    "\n",
    "# Run the OAuth 2.0 flow to obtain credentials\n",
    "creds = flow.run_local_server(port=0)\n",
    "\n",
    "# Create a Drive API client\n",
    "drive_service = build(\"drive\", \"v3\", credentials=creds)\n",
    "\n",
    "# Specify the file ID of the file you want to read\n",
    "file_id = \"your_file_id_here\"\n",
    "\n",
    "# Make a request to get the file metadata\n",
    "file_metadata = drive_service.files().get(fileId=file_id).execute()\n",
    "\n",
    "# Get the file content\n",
    "file_content = drive_service.files().get_media(fileId=file_id).execute()\n",
    "\n",
    "# Process the file content as needed\n",
    "print(file_content.decode(\"utf-8\"))"
   ],
   "id": "cfef15abb19356f6",
   "outputs": [],
   "execution_count": null
  },
  {
   "metadata": {},
   "cell_type": "code",
   "source": [
    "from google.oauth2.credentials import Credentials\n",
    "from googleapiclient.discovery import build\n",
    "\n",
    "# Set up the credentials (you'll need to create and configure OAuth 2.0 credentials)\n",
    "# creds = Credentials.from_authorized_user_info(\n",
    "#     {\n",
    "#         \"refresh_token\": \"1//04tzN0rndYLWTCgYIARAAGAQSNwF-L9IrrxxvOkm50SZkPzvkLScYpLWZdG5zmCnOh3H28C5TXv70cOH7LxWkWgV9sEPJ39vd7oU\",\n",
    "#         \"client_id\": \"382496031737-vtt8oqip1inhnp1r6rdtvui6bc0edpqg.apps.googleusercontent.com\",\n",
    "#         \"client_secret\": \"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\",\n",
    "#         # \"redirect_uris\": \"https://developers.google.com/oauthplayground\",\n",
    "#     },\n",
    "#     [\"https://www.googleapis.com/auth/drive.readonly\"],\n",
    "# )\n",
    "# Create a Drive API client\n",
    "drive_service = build(\"drive\", \"v3\", credentials=creds)\n",
    "# https://docs.google.com/spreadsheets/d/1WOcaZOyHYGhebc80gsgoLjw4ofabIymCJkq7smgvsH8/edit?usp=sharing\n",
    "# Specify the file ID of the file you want to read\n",
    "file_id = \"1WOcaZOyHYGhebc80gsgoLjw4ofabIymCJkq7smgvsH8\"\n",
    "\n",
    "# Make a request to get the file metadata\n",
    "file_metadata = drive_service.files().get(fileId=file_id).execute()\n",
    "\n",
    "# Get the file content\n",
    "file_content = drive_service.files().get_media(fileId=file_id).execute()\n",
    "\n",
    "# Process the file content as needed\n",
    "print(file_content.decode(\"utf-8\"))"
   ],
   "id": "26bcce7fe325384b",
   "outputs": [],
   "execution_count": null
  },
  {
   "metadata": {},
   "cell_type": "code",
   "source": "",
   "id": "e438499fa7b9d035",
   "outputs": [],
   "execution_count": null
  },
  {
   "metadata": {},
   "cell_type": "code",
   "source": "",
   "id": "ca0cde767fe45eec",
   "outputs": [],
   "execution_count": null
  },
  {
   "metadata": {},
   "cell_type": "code",
   "source": "",
   "id": "38533f3325c55175",
   "outputs": [],
   "execution_count": null
  },
  {
   "metadata": {},
   "cell_type": "code",
   "source": "",
   "id": "87fbce40c86506b8",
   "outputs": [],
   "execution_count": null
  },
  {
   "metadata": {},
   "cell_type": "code",
   "source": [
    "from google.oauth2.credentials import Credentials\n",
    "from googleapiclient.discovery import build\n",
    "\n",
    "# Set up the credentials (you'll need to create and configure OAuth 2.0 credentials)\n",
    "# creds = Credentials.from_service_account_file(\n",
    "#     {\n",
    "#         \"installed\": {\n",
    "#             \"client_id\": \"382496031737-aijqc6gaaluue6e14evksvh05gootvng.apps.googleusercontent.com\",\n",
    "#             \"project_id\": \"cecilvega\",\n",
    "#             \"auth_uri\": \"https://accounts.google.com/o/oauth2/auth\",\n",
    "#             \"token_uri\": \"https://oauth2.googleapis.com/token\",\n",
    "#             \"auth_provider_x509_cert_url\": \"https://www.googleapis.com/oauth2/v1/certs\",\n",
    "#             \"client_secret\": \"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\",\n",
    "#             \"redirect_uris\": [\"http://localhost\"],\n",
    "#         }\n",
    "#     },\n",
    "#     [\"https://www.googleapis.com/auth/drive.readonly\"],\n",
    "# )"
   ],
   "id": "74bbabd662a2d729",
   "outputs": [],
   "execution_count": null
  },
  {
   "metadata": {},
   "cell_type": "code",
   "source": "creds",
   "id": "b717e19fcba5e18",
   "outputs": [],
   "execution_count": null
  },
  {
   "metadata": {},
   "cell_type": "code",
   "source": [
    "# Create a Drive API client\n",
    "drive_service = build(\"drive\", \"v3\", credentials=creds)\n",
    "\n",
    "# Specify the file ID of the file you want to read\n",
    "file_id = \"your_file_id_here\"\n",
    "\n",
    "# Make a request to get the file metadata\n",
    "file_metadata = drive_service.files().get(fileId=file_id).execute()\n",
    "\n",
    "# Get the file content\n",
    "file_content = drive_service.files().get_media(fileId=file_id).execute()\n",
    "\n",
    "# Process the file content as needed\n",
    "print(file_content.decode(\"utf-8\"))"
   ],
   "id": "8e588877e7d959c3",
   "outputs": [],
   "execution_count": null
  },
  {
   "cell_type": "code",
   "id": "initial_id",
   "metadata": {
    "collapsed": true
   },
   "source": "3243045 + 1273218 + 741581",
   "outputs": [],
   "execution_count": null
  },
  {
   "metadata": {},
   "cell_type": "code",
   "source": [
    "878002 + 395216"
   ],
   "id": "1379ad9640bef7a2",
   "outputs": [],
   "execution_count": null
  },
  {
   "metadata": {},
   "cell_type": "code",
   "source": [
    "24 * 166297"
   ],
   "id": "e60bcf41b4d4c006",
   "outputs": [],
   "execution_count": null
  }
 ],
 "metadata": {
  "kernelspec": {
   "display_name": "Python 3",
   "language": "python",
   "name": "python3"
  },
  "language_info": {
   "codemirror_mode": {
    "name": "ipython",
    "version": 2
   },
   "file_extension": ".py",
   "mimetype": "text/x-python",
   "name": "python",
   "nbconvert_exporter": "python",
   "pygments_lexer": "ipython2",
   "version": "2.7.6"
  }
 },
 "nbformat": 4,
 "nbformat_minor": 5
}
