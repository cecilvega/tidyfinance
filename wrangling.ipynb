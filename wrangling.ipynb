{
 "cells": [
  {
   "metadata": {
    "ExecuteTime": {
     "end_time": "2024-04-22T22:45:49.096988Z",
     "start_time": "2024-04-22T22:45:48.631532Z"
    }
   },
   "cell_type": "code",
   "source": [
    "import json\n",
    "import pandas as pd\n",
    "import streamlit as st\n",
    "from google.oauth2 import service_account\n",
    "from googleapiclient.discovery import build"
   ],
   "id": "b219f971468cdb66",
   "execution_count": 1,
   "outputs": []
  },
  {
   "metadata": {},
   "cell_type": "code",
   "source": [
    "def read_expenses():\n",
    "    # Set up the service account credentials\n",
    "    service_account_info = json.loads(st.secrets.service_account_info)\n",
    "\n",
    "    creds = service_account.Credentials.from_service_account_info(\n",
    "        service_account_info, scopes=[\"https://www.googleapis.com/auth/spreadsheets.readonly\"]\n",
    "    )\n",
    "\n",
    "    # Create a Sheets API client\n",
    "    sheets_service = build(\"sheets\", \"v4\", credentials=creds)\n",
    "\n",
    "    # Specify the file ID of the Google Sheets file you want to read\n",
    "    file_id = \"1WOcaZOyHYGhebc80gsgoLjw4ofabIymCJkq7smgvsH8\"\n",
    "\n",
    "    # Specify the range of cells you want to read (e.g., \"Sheet1!A1:C10\")\n",
    "    range_name = \"gastos\"\n",
    "\n",
    "    # Make a request to get the values from the specified range\n",
    "    result = sheets_service.spreadsheets().values().get(spreadsheetId=file_id, range=range_name).execute()\n",
    "\n",
    "    # Get the values from the result\n",
    "    data = result.get(\"values\", [])\n",
    "\n",
    "    # Convert the data to a pandas DataFrame\n",
    "    df = pd.DataFrame(data[1:], columns=data[0])\n",
    "    return df\n",
    "\n",
    "\n",
    "df = read_expenses()"
   ],
   "id": "157e5558947350ed",
   "execution_count": 3,
   "outputs": []
  },
  {
   "metadata": {
    "ExecuteTime": {
     "end_time": "2024-04-22T22:48:51.387985Z",
     "start_time": "2024-04-22T22:48:51.331687Z"
    }
   },
   "cell_type": "code",
   "source": [
    "import plotly.express as px\n",
    "\n",
    "# Convert column names to lowercase\n",
    "df.columns = df.columns.str.lower()\n",
    "\n",
    "# Convert fecha to datetime\n",
    "df[\"fecha\"] = pd.to_datetime(df[\"fecha\"])\n",
    "df[\"monto\"] = pd.to_numeric(df[\"monto\"])\n",
    "# Add month and week columns\n",
    "df[\"month\"] = df[\"fecha\"].dt.to_period(\"M\").astype(str)\n",
    "df[\"week\"] = df[\"fecha\"].dt.to_period(\"W\").astype(str)\n",
    "\n",
    "# Monthly expenses bar chart\n",
    "monthly_expenses = df.groupby(\"month\")[\"monto\"].sum().reset_index()\n",
    "fig_monthly_expenses = px.bar(monthly_expenses, x=\"month\", y=\"monto\", title=\"Monthly Expenses\")\n",
    "fig_monthly_expenses"
   ],
   "id": "c779fa9cd2527e04",
   "execution_count": 14,
   "outputs": []
  },
  {
   "metadata": {
    "ExecuteTime": {
     "end_time": "2024-04-22T23:14:25.796479Z",
     "start_time": "2024-04-22T23:14:25.793261Z"
    }
   },
   "cell_type": "code",
   "source": "2 * 1600",
   "id": "7a496ae8fd778f3b",
   "execution_count": 31,
   "outputs": []
  },
  {
   "metadata": {
    "ExecuteTime": {
     "end_time": "2024-04-22T22:50:12.524467Z",
     "start_time": "2024-04-22T22:50:12.464639Z"
    }
   },
   "cell_type": "code",
   "source": [
    "# Bar chart of top consumed products\n",
    "top_consumed_products = (\n",
    "    df.groupby(\"descripcion\")[\"cantidad\"].sum().reset_index().sort_values(\"cantidad\", ascending=False)\n",
    ")\n",
    "fig_top_consumed_products = px.bar(\n",
    "    top_consumed_products.head(10), x=\"descripcion\", y=\"cantidad\", title=\"Top Consumed Products\"\n",
    ")\n",
    "fig_top_consumed_products.show()"
   ],
   "id": "7dec1a14fc76c226",
   "execution_count": 17,
   "outputs": []
  },
  {
   "metadata": {
    "ExecuteTime": {
     "end_time": "2024-04-22T22:47:27.592498Z",
     "start_time": "2024-04-22T22:47:27.585866Z"
    }
   },
   "cell_type": "code",
   "source": "df",
   "id": "8412db265f34154f",
   "execution_count": 10,
   "outputs": []
  },
  {
   "metadata": {
    "ExecuteTime": {
     "end_time": "2024-04-22T22:47:07.535705Z",
     "start_time": "2024-04-22T22:47:07.532627Z"
    }
   },
   "cell_type": "code",
   "source": "df.dtypes",
   "id": "590ed3a29e646198",
   "execution_count": 9,
   "outputs": []
  },
  {
   "metadata": {
    "ExecuteTime": {
     "end_time": "2024-04-22T22:46:48.425520Z",
     "start_time": "2024-04-22T22:46:48.366438Z"
    }
   },
   "cell_type": "code",
   "source": "fig_monthly_expenses.show()",
   "id": "697ef4b1022e262",
   "execution_count": 8,
   "outputs": []
  },
  {
   "metadata": {
    "ExecuteTime": {
     "end_time": "2024-04-22T22:49:01.184351Z",
     "start_time": "2024-04-22T22:49:01.030440Z"
    }
   },
   "cell_type": "code",
   "source": [
    "# Monthly expenses by comercio bar chart\n",
    "monthly_expenses_comercio = df.groupby([\"month\", \"comercio\"])[\"monto\"].sum().reset_index()\n",
    "fig_monthly_expenses_comercio = px.bar(\n",
    "    monthly_expenses_comercio, x=\"month\", y=\"monto\", color=\"comercio\", title=\"Monthly Expenses by Comercio\"\n",
    ")\n",
    "fig_monthly_expenses_comercio.show()\n",
    "\n",
    "# Time series plot of expenses by month\n",
    "monthly_expenses_ts = df.groupby([\"month\", \"categoria\"])[\"monto\"].sum().reset_index()\n",
    "fig_monthly_expenses_ts = px.line(\n",
    "    monthly_expenses_ts, x=\"month\", y=\"monto\", color=\"categoria\", title=\"Monthly Expenses Time Series\"\n",
    ")\n",
    "fig_monthly_expenses_ts.update_layout(\n",
    "    updatemenus=[\n",
    "        dict(\n",
    "            buttons=[\n",
    "                dict(\n",
    "                    label=\"All Categories\",\n",
    "                    method=\"update\",\n",
    "                    args=[{\"visible\": [True] * len(fig_monthly_expenses_ts.data)}],\n",
    "                ),\n",
    "                dict(\n",
    "                    label=\"Food\",\n",
    "                    method=\"update\",\n",
    "                    args=[\n",
    "                        {\"visible\": [True if trace.name == \"food\" else False for trace in fig_monthly_expenses_ts.data]}\n",
    "                    ],\n",
    "                ),\n",
    "            ],\n",
    "            direction=\"down\",\n",
    "            showactive=True,\n",
    "            x=0.1,\n",
    "            xanchor=\"left\",\n",
    "            y=1.1,\n",
    "            yanchor=\"top\",\n",
    "        )\n",
    "    ]\n",
    ")\n",
    "fig_monthly_expenses_ts.show()\n",
    "\n",
    "# Time series plot of expenses by week\n",
    "weekly_expenses_ts = df.groupby([\"week\", \"categoria\"])[\"monto\"].sum().reset_index()\n",
    "fig_weekly_expenses_ts = px.line(\n",
    "    weekly_expenses_ts, x=\"week\", y=\"monto\", color=\"categoria\", title=\"Weekly Expenses Time Series\"\n",
    ")\n",
    "fig_weekly_expenses_ts.update_layout(\n",
    "    updatemenus=[\n",
    "        dict(\n",
    "            buttons=[\n",
    "                dict(\n",
    "                    label=\"All Categories\",\n",
    "                    method=\"update\",\n",
    "                    args=[{\"visible\": [True] * len(fig_weekly_expenses_ts.data)}],\n",
    "                ),\n",
    "                dict(\n",
    "                    label=\"Food\",\n",
    "                    method=\"update\",\n",
    "                    args=[\n",
    "                        {\"visible\": [True if trace.name == \"food\" else False for trace in fig_weekly_expenses_ts.data]}\n",
    "                    ],\n",
    "                ),\n",
    "            ],\n",
    "            direction=\"down\",\n",
    "            showactive=True,\n",
    "            x=0.1,\n",
    "            xanchor=\"left\",\n",
    "            y=1.1,\n",
    "            yanchor=\"top\",\n",
    "        )\n",
    "    ]\n",
    ")\n",
    "fig_weekly_expenses_ts.show()\n",
    "\n",
    "# Pie chart of expenses by category per month\n",
    "monthly_expenses_category = df.groupby([\"month\", \"categoria\"])[\"monto\"].sum().reset_index()\n",
    "fig_monthly_expenses_category = px.pie(\n",
    "    monthly_expenses_category,\n",
    "    names=\"categoria\",\n",
    "    values=\"monto\",\n",
    "    title=\"Monthly Expenses by Category\",\n",
    "    facet_col=\"month\",\n",
    "    facet_col_wrap=3,\n",
    ")\n",
    "fig_monthly_expenses_category.show()\n",
    "\n",
    "# Pie chart of expenses by category per week\n",
    "weekly_expenses_category = df.groupby([\"week\", \"categoria\"])[\"monto\"].sum().reset_index()\n",
    "fig_weekly_expenses_category = px.pie(\n",
    "    weekly_expenses_category,\n",
    "    names=\"categoria\",\n",
    "    values=\"monto\",\n",
    "    title=\"Weekly Expenses by Category\",\n",
    "    facet_col=\"week\",\n",
    "    facet_col_wrap=3,\n",
    ")\n",
    "fig_weekly_expenses_category.show()\n",
    "\n",
    "# Most expensive products in the Food category per rolling month\n",
    "df_food = df[df[\"categoria\"] == \"food\"]\n",
    "rolling_month_expenses = (\n",
    "    df_food.groupby([\"descripcion\", pd.Grouper(key=\"fecha\", freq=\"M\")])[\"monto\"].sum().reset_index()\n",
    ")\n",
    "top_products_per_month = rolling_month_expenses.loc[rolling_month_expenses.groupby(\"fecha\")[\"monto\"].idxmax()]\n",
    "fig_top_products_per_month = px.bar(\n",
    "    top_products_per_month,\n",
    "    x=\"fecha\",\n",
    "    y=\"monto\",\n",
    "    color=\"descripcion\",\n",
    "    title=\"Most Expensive Food Products per Rolling Month\",\n",
    ")\n",
    "fig_top_products_per_month.show()"
   ],
   "id": "5f9c8b1e386ea59d",
   "execution_count": 15,
   "outputs": []
  },
  {
   "metadata": {
    "ExecuteTime": {
     "end_time": "2024-04-22T22:24:39.566736Z",
     "start_time": "2024-04-22T22:24:39.498692Z"
    }
   },
   "cell_type": "code",
   "source": "st.dataframe(df)",
   "id": "7f698b862ce15b83",
   "execution_count": 8,
   "outputs": []
  },
  {
   "metadata": {
    "ExecuteTime": {
     "end_time": "2024-04-22T22:24:04.316012Z",
     "start_time": "2024-04-22T22:24:04.309879Z"
    }
   },
   "cell_type": "code",
   "source": "df",
   "id": "55649a096830d35b",
   "execution_count": 7,
   "outputs": []
  },
  {
   "metadata": {},
   "cell_type": "code",
   "execution_count": null,
   "source": "",
   "id": "6df07fb3d190f511",
   "outputs": []
  },
  {
   "metadata": {},
   "cell_type": "code",
   "source": [
    "from google.oauth2.credentials import Credentials\n",
    "from google_auth_oauthlib.flow import InstalledAppFlow\n",
    "from googleapiclient.discovery import build\n",
    "\n",
    "# Set up the OAuth 2.0 flow\n",
    "\n",
    "\n",
    "# Run the OAuth 2.0 flow to obtain credentials\n",
    "creds = flow.run_local_server(port=0)\n",
    "\n",
    "# Create a Drive API client\n",
    "drive_service = build(\"drive\", \"v3\", credentials=creds)\n",
    "\n",
    "# Specify the file ID of the file you want to read\n",
    "file_id = \"your_file_id_here\"\n",
    "\n",
    "# Make a request to get the file metadata\n",
    "file_metadata = drive_service.files().get(fileId=file_id).execute()\n",
    "\n",
    "# Get the file content\n",
    "file_content = drive_service.files().get_media(fileId=file_id).execute()\n",
    "\n",
    "# Process the file content as needed\n",
    "print(file_content.decode(\"utf-8\"))"
   ],
   "id": "cfef15abb19356f6",
   "execution_count": null,
   "outputs": []
  },
  {
   "metadata": {},
   "cell_type": "code",
   "source": [
    "from google.oauth2.credentials import Credentials\n",
    "from googleapiclient.discovery import build\n",
    "\n",
    "# Set up the credentials (you'll need to create and configure OAuth 2.0 credentials)\n",
    "\n",
    "# Create a Drive API client\n",
    "drive_service = build(\"drive\", \"v3\", credentials=creds)\n",
    "# Specify the file ID of the file you want to read\n",
    "file_id = \"1WOcaZOyHYGhebc80gsgoLjw4ofabIymCJkq7smgvsH8\"\n",
    "\n",
    "# Make a request to get the file metadata\n",
    "file_metadata = drive_service.files().get(fileId=file_id).execute()\n",
    "\n",
    "# Get the file content\n",
    "file_content = drive_service.files().get_media(fileId=file_id).execute()\n",
    "\n",
    "# Process the file content as needed\n",
    "print(file_content.decode(\"utf-8\"))"
   ],
   "id": "26bcce7fe325384b",
   "execution_count": null,
   "outputs": []
  },
  {
   "metadata": {},
   "cell_type": "code",
   "source": "",
   "id": "e438499fa7b9d035",
   "execution_count": null,
   "outputs": []
  },
  {
   "metadata": {},
   "cell_type": "code",
   "source": "",
   "id": "ca0cde767fe45eec",
   "execution_count": null,
   "outputs": []
  },
  {
   "metadata": {},
   "cell_type": "code",
   "source": "",
   "id": "38533f3325c55175",
   "execution_count": null,
   "outputs": []
  },
  {
   "metadata": {},
   "cell_type": "code",
   "source": "",
   "id": "87fbce40c86506b8",
   "execution_count": null,
   "outputs": []
  },
  {
   "metadata": {},
   "cell_type": "code",
   "source": [
    "from google.oauth2.credentials import Credentials\n",
    "from googleapiclient.discovery import build\n",
    "\n",
    "# Set up the credentials (you'll need to create and configure OAuth 2.0 credentials)"
   ],
   "id": "74bbabd662a2d729",
   "execution_count": null,
   "outputs": []
  },
  {
   "metadata": {},
   "cell_type": "code",
   "source": "creds",
   "id": "b717e19fcba5e18",
   "execution_count": null,
   "outputs": []
  },
  {
   "metadata": {},
   "cell_type": "code",
   "source": [
    "# Create a Drive API client\n",
    "drive_service = build(\"drive\", \"v3\", credentials=creds)\n",
    "\n",
    "# Specify the file ID of the file you want to read\n",
    "file_id = \"your_file_id_here\"\n",
    "\n",
    "# Make a request to get the file metadata\n",
    "file_metadata = drive_service.files().get(fileId=file_id).execute()\n",
    "\n",
    "# Get the file content\n",
    "file_content = drive_service.files().get_media(fileId=file_id).execute()\n",
    "\n",
    "# Process the file content as needed\n",
    "print(file_content.decode(\"utf-8\"))"
   ],
   "id": "8e588877e7d959c3",
   "execution_count": null,
   "outputs": []
  }
 ],
 "metadata": {
  "kernelspec": {
   "display_name": "Python 3",
   "language": "python",
   "name": "python3"
  },
  "language_info": {
   "codemirror_mode": {
    "name": "ipython",
    "version": 2
   },
   "file_extension": ".py",
   "mimetype": "text/x-python",
   "name": "python",
   "nbconvert_exporter": "python",
   "pygments_lexer": "ipython2",
   "version": "2.7.6"
  }
 },
 "nbformat": 4,
 "nbformat_minor": 5
}
